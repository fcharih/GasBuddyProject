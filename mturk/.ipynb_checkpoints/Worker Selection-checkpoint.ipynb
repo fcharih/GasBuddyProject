{
 "cells": [
  {
   "cell_type": "markdown",
   "metadata": {},
   "source": [
    "# Worker selection\n",
    "\n",
    "*January 6th, 2020*\n",
    "\n",
    "So, I launched a HIT with 10 links per HIT in order to identify potentially reliable workers that could work on the entire dataset -- that was in early December 2019.\n",
    "\n",
    "We have identified a couple workers that did a decent job, although a couple of points need to be specified. However, it was clear that none of them actually watched the instruction video that Kevin had prepared:"
   ]
  },
  {
   "cell_type": "code",
   "execution_count": 1,
   "metadata": {},
   "outputs": [
    {
     "data": {
      "image/jpeg": "[encoded data removed]",
      "text/html": [
       "\n",
       "        <iframe\n",
       "            width=\"400\"\n",
       "            height=\"300\"\n",
       "            src=\"https://www.youtube.com/embed/d-8n09odPXw\"\n",
       "            frameborder=\"0\"\n",
       "            allowfullscreen\n",
       "        ></iframe>\n",
       "        "
      ],
      "text/plain": [
       "<IPython.lib.display.YouTubeVideo at 0x7fd44002d6d0>"
      ]
     },
     "execution_count": 1,
     "metadata": {},
     "output_type": "execute_result"
    }
   ],
   "source": [
    "from IPython.lib.display import YouTubeVideo\n",
    "YouTubeVideo('d-8n09odPXw')"
   ]
  },
  {
   "cell_type": "markdown",
   "metadata": {},
   "source": [
    "We have identified a couple of workers who did an OK job, but require further training. As such, I was asked to contact the following workers:\n",
    "\n",
    "A15DABFV6HEG1J\n",
    "\n",
    "A1EG0LU5SC669K\n",
    "\n",
    "A28QUR0QYD2WI7\n",
    "\n",
    "A29J5UFG3E9FXR\n",
    "\n",
    "A3GL87ULMLS0V2\n",
    "\n",
    "A2P6JE905T3R93\n",
    "\n",
    "We had the idea of paying them $1 each to watch the complete video, after which they will be invited to complete the HITs that we will release in batches."
   ]
  },
  {
   "cell_type": "markdown",
   "metadata": {},
   "source": [
    "## Creating a qualification type for selected workers\n",
    "\n",
    "In order to ensure that only qualified workers can work on the HIT, I need to create a qualification type."
   ]
  },
  {
   "cell_type": "code",
   "execution_count": 115,
   "metadata": {},
   "outputs": [],
   "source": [
    "import boto3\n",
    "endpoint_url = \"https://mturk-requester.us-east-1.amazonaws.com\"\n",
    "client = boto3.client('mturk', endpoint_url=endpoint_url)\n",
    "\n",
    "response = client.create_qualification_type(\n",
    "    Name='our_qualified_workers',\n",
    "    Keywords='qualified,workers',\n",
    "    Description='Selected workers based on preliminary round',\n",
    "    QualificationTypeStatus='Active',\n",
    "    RetryDelayInSeconds=123,\n",
    "    TestDurationInSeconds=0,\n",
    "    AutoGranted=True,\n",
    "    AutoGrantedValue=123\n",
    ")\n",
    "qualification_id = response[\"QualificationType\"][\"QualificationTypeId\"]"
   ]
  },
  {
   "cell_type": "code",
   "execution_count": 116,
   "metadata": {
    "scrolled": true
   },
   "outputs": [
    {
     "name": "stdout",
     "output_type": "stream",
     "text": [
      "{'QualificationType': {'QualificationTypeId': '3UYIJTD339QF6V6L5BXPIU267D0I39', 'CreationTime': datetime.datetime(2020, 1, 6, 10, 4, 7, tzinfo=tzlocal()), 'Name': 'our_qualified_workers', 'Description': 'Selected workers based on preliminary round', 'Keywords': 'qualified,workers', 'QualificationTypeStatus': 'Active', 'RetryDelayInSeconds': 123, 'IsRequestable': True, 'AutoGranted': True, 'AutoGrantedValue': 123}, 'ResponseMetadata': {'RequestId': '068d4240-d8ad-4adf-8045-c81498d2e8e4', 'HTTPStatusCode': 200, 'HTTPHeaders': {'x-amzn-requestid': '068d4240-d8ad-4adf-8045-c81498d2e8e4', 'content-type': 'application/x-amz-json-1.1', 'content-length': '353', 'date': 'Mon, 06 Jan 2020 15:04:06 GMT'}, 'RetryAttempts': 0}}\n"
     ]
    }
   ],
   "source": [
    "print(response)"
   ]
  },
  {
   "cell_type": "markdown",
   "metadata": {},
   "source": [
    "The qualification ID that I received is 3UYIJTD339QF6V6L5BXPIU267D0I39."
   ]
  },
  {
   "cell_type": "code",
   "execution_count": 117,
   "metadata": {},
   "outputs": [],
   "source": [
    "def associate(qualification_id, worker_id):\n",
    "    response = client.associate_qualification_with_worker(\n",
    "        QualificationTypeId=qualification_id,\n",
    "        WorkerId=worker_id,\n",
    "        IntegerValue=123,\n",
    "        SendNotification=False\n",
    "    )\n",
    "    print(response)"
   ]
  },
  {
   "cell_type": "code",
   "execution_count": 118,
   "metadata": {
    "scrolled": true
   },
   "outputs": [
    {
     "name": "stdout",
     "output_type": "stream",
     "text": [
      "{'ResponseMetadata': {'RequestId': 'eddc4b23-7ffc-4675-b4b6-e054e83dfb5a', 'HTTPStatusCode': 200, 'HTTPHeaders': {'x-amzn-requestid': 'eddc4b23-7ffc-4675-b4b6-e054e83dfb5a', 'content-type': 'application/x-amz-json-1.1', 'content-length': '2', 'date': 'Mon, 06 Jan 2020 15:04:36 GMT'}, 'RetryAttempts': 0}}\n",
      "{'ResponseMetadata': {'RequestId': 'cb8b043e-72ea-4331-be09-6f4a3cbf06ef', 'HTTPStatusCode': 200, 'HTTPHeaders': {'x-amzn-requestid': 'cb8b043e-72ea-4331-be09-6f4a3cbf06ef', 'content-type': 'application/x-amz-json-1.1', 'content-length': '2', 'date': 'Mon, 06 Jan 2020 15:04:36 GMT'}, 'RetryAttempts': 0}}\n",
      "{'ResponseMetadata': {'RequestId': '0978c5c5-155f-4d40-a6cd-216c6b21304a', 'HTTPStatusCode': 200, 'HTTPHeaders': {'x-amzn-requestid': '0978c5c5-155f-4d40-a6cd-216c6b21304a', 'content-type': 'application/x-amz-json-1.1', 'content-length': '2', 'date': 'Mon, 06 Jan 2020 15:04:37 GMT'}, 'RetryAttempts': 0}}\n",
      "{'ResponseMetadata': {'RequestId': '9f9846a8-2023-4b8d-89f3-3c82dd9c6af6', 'HTTPStatusCode': 200, 'HTTPHeaders': {'x-amzn-requestid': '9f9846a8-2023-4b8d-89f3-3c82dd9c6af6', 'content-type': 'application/x-amz-json-1.1', 'content-length': '2', 'date': 'Mon, 06 Jan 2020 15:04:37 GMT'}, 'RetryAttempts': 0}}\n",
      "{'ResponseMetadata': {'RequestId': '978509c8-c870-4b0c-ab61-a2a97ead8754', 'HTTPStatusCode': 200, 'HTTPHeaders': {'x-amzn-requestid': '978509c8-c870-4b0c-ab61-a2a97ead8754', 'content-type': 'application/x-amz-json-1.1', 'content-length': '2', 'date': 'Mon, 06 Jan 2020 15:04:37 GMT'}, 'RetryAttempts': 0}}\n",
      "{'ResponseMetadata': {'RequestId': '97465590-f629-4f4e-bc00-70accbfee067', 'HTTPStatusCode': 200, 'HTTPHeaders': {'x-amzn-requestid': '97465590-f629-4f4e-bc00-70accbfee067', 'content-type': 'application/x-amz-json-1.1', 'content-length': '2', 'date': 'Mon, 06 Jan 2020 15:04:37 GMT'}, 'RetryAttempts': 0}}\n"
     ]
    }
   ],
   "source": [
    "WORKERS = [\n",
    "    \"A1EG0LU5SC669K\",\n",
    "    \"A15DABFV6HEG1J\",\n",
    "    \"A28QUR0QYD2WI7\",\n",
    "    \"A29J5UFG3E9FXR\",\n",
    "    \"A3GL87ULMLS0V2\",\n",
    "    \"A2P6JE905T3R93\"\n",
    "]\n",
    "\n",
    "for worker in WORKERS:\n",
    "    associate(qualification_id, worker)"
   ]
  },
  {
   "cell_type": "code",
   "execution_count": 149,
   "metadata": {},
   "outputs": [],
   "source": [
    "import boto3\n",
    "endpoint_url = \"https://mturk-requester-sandbox.us-east-1.amazonaws.com\"\n",
    "client = boto3.client('mturk', endpoint_url=endpoint_url)\n",
    "\n",
    "response = client.create_qualification_type(\n",
    "    Name='our_qualified_workers2',\n",
    "    Keywords='qualified,workers',\n",
    "    Description='Selected workers based on preliminary round',\n",
    "    QualificationTypeStatus='Active',\n",
    "    RetryDelayInSeconds=123,\n",
    "    TestDurationInSeconds=0,\n",
    "    AutoGranted=True,\n",
    "    AutoGrantedValue=123\n",
    ")\n",
    "qualification_id = response[\"QualificationType\"][\"QualificationTypeId\"]"
   ]
  },
  {
   "cell_type": "code",
   "execution_count": 150,
   "metadata": {
    "scrolled": true
   },
   "outputs": [
    {
     "name": "stdout",
     "output_type": "stream",
     "text": [
      "{'QualificationType': {'QualificationTypeId': '3I33S531S20XBJWO15EK1HT8N5G7H0', 'CreationTime': datetime.datetime(2020, 1, 6, 10, 19, 30, tzinfo=tzlocal()), 'Name': 'our_qualified_workers2', 'Description': 'Selected workers based on preliminary round', 'Keywords': 'qualified,workers', 'QualificationTypeStatus': 'Active', 'RetryDelayInSeconds': 123, 'IsRequestable': True, 'AutoGranted': True, 'AutoGrantedValue': 123}, 'ResponseMetadata': {'RequestId': 'df156a37-a7e1-455d-960e-c5fdbc11e262', 'HTTPStatusCode': 200, 'HTTPHeaders': {'x-amzn-requestid': 'df156a37-a7e1-455d-960e-c5fdbc11e262', 'content-type': 'application/x-amz-json-1.1', 'content-length': '353', 'date': 'Mon, 06 Jan 2020 15:19:30 GMT'}, 'RetryAttempts': 0}}\n"
     ]
    }
   ],
   "source": [
    "print(response)"
   ]
  },
  {
   "cell_type": "markdown",
   "metadata": {},
   "source": [
    "The qualification ID that I received is 3I33S531S20XBJWO15EK1HT8N5G7H0 for the sandbox."
   ]
  },
  {
   "cell_type": "code",
   "execution_count": 151,
   "metadata": {},
   "outputs": [],
   "source": [
    "def associate(client, qualification_id, worker_id):\n",
    "    response = client.associate_qualification_with_worker(\n",
    "        QualificationTypeId=qualification_id,\n",
    "        WorkerId=worker_id,\n",
    "        IntegerValue=123,\n",
    "        SendNotification=False\n",
    "    )\n",
    "    print(response)"
   ]
  },
  {
   "cell_type": "code",
   "execution_count": 152,
   "metadata": {},
   "outputs": [
    {
     "name": "stdout",
     "output_type": "stream",
     "text": [
      "{'ResponseMetadata': {'RequestId': '7b338548-59e6-4f42-87b0-8977cac14701', 'HTTPStatusCode': 200, 'HTTPHeaders': {'x-amzn-requestid': '7b338548-59e6-4f42-87b0-8977cac14701', 'content-type': 'application/x-amz-json-1.1', 'content-length': '2', 'date': 'Mon, 06 Jan 2020 15:20:23 GMT'}, 'RetryAttempts': 0}}\n"
     ]
    }
   ],
   "source": [
    "associate(client, qualification_id, \"A693011I1E0SC\") # that's me"
   ]
  },
  {
   "cell_type": "markdown",
   "metadata": {},
   "source": [
    "## Creating the video tutorial template\n",
    "\n",
    "I created a video tutorial template. It ensures that the workers spend at least 140s on the HIT. This way, they will not get anything if they try to submit without watching the video."
   ]
  },
  {
   "cell_type": "code",
   "execution_count": 100,
   "metadata": {},
   "outputs": [],
   "source": [
    "## TEST in sandbox\n",
    "TEMPLATE = \"./templates/instruction_video.html\"\n",
    "\n",
    "# Instantiate the client\n",
    "import boto3\n",
    "endpoint_url = \"https://mturk-requester-sandbox.us-east-1.amazonaws.com\"\n",
    "client = boto3.client('mturk', endpoint_url=endpoint_url)\n",
    "\n",
    "# Load the template\n",
    "template = open(TEMPLATE).read()\n",
    "\n",
    "# Submit the HIT\n",
    "response = client.create_hit(\n",
    "        MaxAssignments=1,\n",
    "        AutoApprovalDelayInSeconds=2592000,\n",
    "        LifetimeInSeconds=31536000,\n",
    "        AssignmentDurationInSeconds=20000,\n",
    "        Reward='1.00',\n",
    "        Title='Finding gas prices in Street View Imagery (tutorial)',\n",
    "        Keywords='vision,copy-paste,easy,computer vision',\n",
    "        Description='Watch an instruction video for our task',\n",
    "        Question=template,\n",
    "        RequesterAnnotation='something'\n",
    "    )\n",
    "\n",
    "hit_id = response[\"HIT\"][\"HITId\"]"
   ]
  },
  {
   "cell_type": "code",
   "execution_count": 97,
   "metadata": {
    "scrolled": true
   },
   "outputs": [
    {
     "name": "stdout",
     "output_type": "stream",
     "text": [
      "{'NextToken': 'p1:QCb+4ytKSyAIoa/nmMrOSquKZUCC5Y7UyAE8Wfv0dkb+GDWLRVUWRTz4NSPnHg==', 'NumResults': 1, 'Assignments': [{'AssignmentId': '3IO1LGZLK9WVE4TCEG26V0AU07P687', 'WorkerId': 'A693011I1E0SC', 'HITId': '3L21G7IH46VDZ4L4VCJHAXCZHZBY1M', 'AssignmentStatus': 'Submitted', 'AutoApprovalTime': datetime.datetime(2020, 2, 5, 9, 32, 46, tzinfo=tzlocal()), 'AcceptTime': datetime.datetime(2020, 1, 6, 9, 30, 22, tzinfo=tzlocal()), 'SubmitTime': datetime.datetime(2020, 1, 6, 9, 32, 46, tzinfo=tzlocal()), 'Answer': '<?xml version=\"1.0\" encoding=\"ASCII\"?><QuestionFormAnswers xmlns=\"http://mechanicalturk.amazonaws.com/AWSMechanicalTurkDataSchemas/2005-10-01/QuestionFormAnswers.xsd\"><Answer><QuestionIdentifier>answer</QuestionIdentifier><FreeText>$$${\"timeElapsed\":142.848}$$$</FreeText></Answer></QuestionFormAnswers>'}], 'ResponseMetadata': {'RequestId': 'b91cec6e-10c6-4c3a-93de-d54a3bc6e8a5', 'HTTPStatusCode': 200, 'HTTPHeaders': {'x-amzn-requestid': 'b91cec6e-10c6-4c3a-93de-d54a3bc6e8a5', 'content-type': 'application/x-amz-json-1.1', 'content-length': '673', 'date': 'Mon, 06 Jan 2020 14:33:22 GMT'}, 'RetryAttempts': 0}}\n"
     ]
    }
   ],
   "source": [
    "response = client.list_assignments_for_hit(\n",
    "    HITId=hit_id\n",
    ")\n",
    "print(response)"
   ]
  },
  {
   "cell_type": "markdown",
   "metadata": {},
   "source": [
    "## Actual HIT (link extraction)\n",
    "\n",
    "I had noticed that for some of the HITs, it was possible to return an empty answer. It is possible that this issue was caused by one of the following:\n",
    "\n",
    "* The submit button was submitting the HIT form without running the other JavaScript code; this was fixed by setting the button type to \"button\". This way, clicking on submit does not submit the form by default.\n",
    "* The lifetime of the HIT was too short... upped it to the max value.\n",
    "* Assignment duration was too short.\n",
    "\n",
    "Let's try it again and troubleshoot as we go."
   ]
  },
  {
   "cell_type": "code",
   "execution_count": 7,
   "metadata": {},
   "outputs": [],
   "source": [
    "import re\n",
    "import json\n",
    "\n",
    "def parse_response(response):\n",
    "    answers = response[\"Assignments\"][0][\"Answer\"]\n",
    "    assignment = {}\n",
    "    assignment[\"answers\"] = json.loads(re.search(r\"\\$\\$\\$(.*)\\$\\$\\$\", answers).group(1))\n",
    "    assignment[\"assignment_id\"] = response[\"Assignments\"][0][\"AssignmentId\"]\n",
    "    assignment[\"hit_id\"] = response[\"Assignments\"][0][\"HITId\"]\n",
    "    assignment[\"worker_id\"] = response[\"Assignments\"][0][\"WorkerId\"]\n",
    "    assignment[\"accept_time\"] = response[\"Assignments\"][0][\"AcceptTime\"].timestamp() # ms since epoch\n",
    "    assignment[\"submit_time\"] = response[\"Assignments\"][0][\"SubmitTime\"].timestamp() # ms since epoch\n",
    "    return assignment"
   ]
  },
  {
   "cell_type": "code",
   "execution_count": 154,
   "metadata": {},
   "outputs": [],
   "source": [
    "def create_hit(client, template_file, links_file):\n",
    "    # Load the template\n",
    "    template = open(template_file).read()\n",
    "\n",
    "    # Get the links\n",
    "    links = open(links_file).readlines()\n",
    "    indices = list(range(1, len(links) + 1))\n",
    "\n",
    "    link_template = '<div><a href=\"{}\" target=\"_blank\">Link {}</a><input type=\"text\" id=\"link{}\" style=\"width: 600px;\"></div>'\n",
    "    links = [link_template.format(link, i+1, i+1) for i, link in enumerate(links)]\n",
    "    answers = ['answer.link{} = $(\"#link{}\").val();'.format(i,i) for i in indices]\n",
    "\n",
    "    template = template.replace(\"===LINKS===\", \"\\n\".join(links))\n",
    "    template = template.replace(\"===ANSWERS===\", \"\\n\".join(answers))\n",
    "    template = template.replace(\"===NUMLINKS===\", str(len(links)))\n",
    "\n",
    "    response = client.create_hit(\n",
    "        MaxAssignments=1,\n",
    "        AutoApprovalDelayInSeconds=2592000,\n",
    "        LifetimeInSeconds=31536000,\n",
    "        AssignmentDurationInSeconds=2000,\n",
    "        Reward='0.10',\n",
    "        Title='Finding gas prices in Street View Imagery',\n",
    "        Keywords='vision,copy-paste,easy,computer vision',\n",
    "        Description='Help us find gas prices in Street View Imagery.',\n",
    "        Question=template,\n",
    "        RequesterAnnotation='something',\n",
    "        QualificationRequirements=[\n",
    "        {\n",
    "            'QualificationTypeId': '3I33S531S20XBJWO15EK1HT8N5G7H0',\n",
    "            'Comparator': 'EqualTo',\n",
    "            'IntegerValues': [\n",
    "                123,\n",
    "            ],\n",
    "            \n",
    "        }\n",
    "    ]\n",
    "    )\n",
    "    \n",
    "    return response"
   ]
  },
  {
   "cell_type": "code",
   "execution_count": 155,
   "metadata": {},
   "outputs": [],
   "source": [
    "## TEST in sandbox\n",
    "TEMPLATE = \"./templates/template.html\"\n",
    "LINKS = \"./inputs/prequalification/batch1.txt\"\n",
    "\n",
    "# Instantiate the client\n",
    "import boto3\n",
    "endpoint_url = \"https://mturk-requester-sandbox.us-east-1.amazonaws.com\"\n",
    "client = boto3.client('mturk', endpoint_url=endpoint_url)\n",
    "\n",
    "resp = create_hit(client, TEMPLATE, LINKS)\n",
    "hit_id = resp[\"HIT\"][\"HITId\"]"
   ]
  },
  {
   "cell_type": "code",
   "execution_count": 162,
   "metadata": {
    "scrolled": true
   },
   "outputs": [
    {
     "name": "stdout",
     "output_type": "stream",
     "text": [
      "{'answers': {'videoWasWatched': False, 'answer': {'link1': 'https://www.instantstreetview.com/@30.726723,-88.0941,0h,0p,0z', 'link2': 'https://www.instantstreetview.com/@30.726723,-88.0941,0h,0p,1z', 'link3': 'https://www.instantstreetview.com/@30.726723,-88.0941,0h,0p,2z', 'link4': 'https://www.instantstreetview.com/@30.726723,-88.0941,0h,0p,3z', 'link5': 'https://www.instantstreetview.com/@30.726723,-88.0941,0h,0p,4z', 'link6': 'https://www.instantstreetview.com/@30.726723,-88.0941,0h,0p,5z', 'link7': 'https://www.instantstreetview.com/@30.726723,-88.0941,0h,0p,6z', 'link8': 'https://www.instantstreetview.com/@30.726723,-88.0941,0h,0p,7z', 'link9': 'https://www.instantstreetview.com/@30.726723,-88.0941,0h,0p,8z', 'link10': 'https://www.instantstreetview.com/@30.726723,-88.0941,0h,0p,9z'}}, 'assignment_id': '3K4J6M3CXESBULBXNRV63ITEK9SAGH', 'hit_id': '39WSF6KUV1K0PRBE1D5YFQXRSYHOEL', 'worker_id': 'A693011I1E0SC', 'accept_time': 1578324139.0, 'submit_time': 1578324173.0}\n"
     ]
    }
   ],
   "source": [
    "response = client.list_assignments_for_hit(\n",
    "    HITId=hit_id\n",
    ")\n",
    "print(parse_response(response))"
   ]
  },
  {
   "cell_type": "markdown",
   "metadata": {},
   "source": [
    "## Contact the workers\n",
    "\n",
    "I will need to contact the workers in order to invite them to complete the instructional HIT."
   ]
  },
  {
   "cell_type": "code",
   "execution_count": 163,
   "metadata": {},
   "outputs": [],
   "source": [
    "WORKERS = [\n",
    "    \"A1EG0LU5SC669K\",\n",
    "    \"A15DABFV6HEG1J\",\n",
    "    \"A28QUR0QYD2WI7\",\n",
    "    \"A29J5UFG3E9FXR\",\n",
    "    \"A3GL87ULMLS0V2\",\n",
    "    \"A2P6JE905T3R93\"\n",
    "]"
   ]
  },
  {
   "cell_type": "code",
   "execution_count": 166,
   "metadata": {},
   "outputs": [],
   "source": [
    "EMAIL = \"\"\"Hello,\n",
    "    \n",
    "A couple of weeks ago, you completed a HIT where you were asked to use Google Street View to zoom on gas prices \n",
    "for a series of gas stations and to provid the link. We reviewed your work and would like to invite you to\n",
    "complete more of these tasks.\n",
    "\n",
    "You will be paid 0.10 per HIT (for 10 links). We have thousands of links to fetch, so there is a significant \n",
    "earning opportunity with this task. Before completing the HITs, we would like to ask that you complete a HIT\n",
    "where you watch a tutorial video (for 1USD). After this, you will be allowed to complete more HITs at the rate\n",
    "mentionned previously.\n",
    "\n",
    "Please let us know if you are interested, and the qualification will be given to you.\n",
    "\n",
    "Cheers,\n",
    "Francois\n",
    "\"\"\""
   ]
  },
  {
   "cell_type": "code",
   "execution_count": 167,
   "metadata": {},
   "outputs": [],
   "source": [
    "import boto3\n",
    "endpoint_url = \"https://mturk-requester.us-east-1.amazonaws.com\"\n",
    "client = boto3.client('mturk', endpoint_url=endpoint_url)\n",
    "\n",
    "response = client.notify_workers(\n",
    "    Subject='Invitation to complete a series of HITs',\n",
    "    MessageText=EMAIL,\n",
    "    WorkerIds=WORKERS\n",
    ")"
   ]
  },
  {
   "cell_type": "markdown",
   "metadata": {},
   "source": [
    "# Worker responses\n",
    "\n",
    "Only two workers responded to the email. Let us try again, but this time, only allowing workers with an approval > 95% to complete the HIT."
   ]
  },
  {
   "cell_type": "code",
   "execution_count": 12,
   "metadata": {},
   "outputs": [],
   "source": [
    "import boto3\n",
    "dev_endpoint_url = \"https://mturk-requester-sandbox.us-east-1.amazonaws.com\"\n",
    "dev_client = boto3.client('mturk', endpoint_url=dev_endpoint_url)\n",
    "\n",
    "prod_endpoint_url = \"https://mturk-requester-sandbox.us-east-1.amazonaws.com\"\n",
    "prod_client = boto3.client('mturk', endpoint_url=prod_endpoint_url)"
   ]
  },
  {
   "cell_type": "code",
   "execution_count": 13,
   "metadata": {},
   "outputs": [],
   "source": [
    "def create_hit(client, template_file, links_file):\n",
    "    # Load the template\n",
    "    template = open(template_file).read()\n",
    "\n",
    "    # Get the links\n",
    "    links = open(links_file).readlines()\n",
    "    indices = list(range(1, len(links) + 1))\n",
    "\n",
    "    link_template = '<div><a href=\"{}\" target=\"_blank\">Link {}</a><input type=\"text\" id=\"link{}\" style=\"width: 600px;\"></div>'\n",
    "    links = [link_template.format(link, i+1, i+1) for i, link in enumerate(links)]\n",
    "    answers = ['answer.link{} = $(\"#link{}\").val();'.format(i,i) for i in indices]\n",
    "\n",
    "    template = template.replace(\"===LINKS===\", \"\\n\".join(links))\n",
    "    template = template.replace(\"===ANSWERS===\", \"\\n\".join(answers))\n",
    "    template = template.replace(\"===NUMLINKS===\", str(len(links)))\n",
    "\n",
    "    response = client.create_hit(\n",
    "        MaxAssignments=20,\n",
    "        AutoApprovalDelayInSeconds=2592000,\n",
    "        LifetimeInSeconds=31536000,\n",
    "        AssignmentDurationInSeconds=2000,\n",
    "        Reward='0.10',\n",
    "        Title='Finding gas prices in Street View Imagery (qualification)',\n",
    "        Keywords='vision,copy-paste,easy,computer vision',\n",
    "        Description='Help us find gas prices in Street View Imagery. There will be many HITs for workers who qualify.',\n",
    "        Question=template,\n",
    "        RequesterAnnotation='something',\n",
    "        QualificationRequirements=[\n",
    "        # at least 95% of assignments were approved\n",
    "        {\n",
    "            'QualificationTypeId': '000000000000000000L0',\n",
    "            'Comparator': 'GreaterThanOrEqualTo',\n",
    "            'IntegerValues': [\n",
    "                95,\n",
    "            ],\n",
    "            \n",
    "        },\n",
    "        # submitted at least 200 assignments\n",
    "        {\n",
    "            'QualificationTypeId': '00000000000000000040',\n",
    "            'Comparator': 'GreaterThanOrEqualTo',\n",
    "            'IntegerValues': [\n",
    "                200,\n",
    "            ],\n",
    "        }\n",
    "        ]\n",
    "    )\n",
    "    \n",
    "    return response"
   ]
  },
  {
   "cell_type": "code",
   "execution_count": 15,
   "metadata": {},
   "outputs": [
    {
     "name": "stdout",
     "output_type": "stream",
     "text": [
      "{'HIT': {'HITId': '372AGES0I34CS4UBOACUXAN3JYKXRY', 'HITTypeId': '3EH3OJYIRZXSJJ6MKNIR6EYT8H7AYF', 'HITGroupId': '3K3X4GGOSLMYXQ4ZABU08GUX9LDMCI', 'CreationTime': datetime.datetime(2020, 1, 20, 8, 20, 1, tzinfo=tzlocal()), 'Title': 'Finding gas prices in Street View Imagery (qualification)', 'Description': 'Help us find gas prices in Street View Imagery. There will be many HITs for workers who qualify.', 'Question': '<HTMLQuestion xmlns=\"http://mechanicalturk.amazonaws.com/AWSMechanicalTurkDataSchemas/2011-11-11/HTMLQuestion.xsd\">\\n  <HTMLContent><![CDATA[\\n<!DOCTYPE html>\\n<html>\\n <head>\\n  <meta http-equiv=\\'Content-Type\\' content=\\'text/html; charset=UTF-8\\'/>\\n  <link rel=\"stylesheet\" href=\"https://stackpath.bootstrapcdn.com/bootstrap/4.3.1/css/bootstrap.min.css\" integrity=\"sha384-ggOyR0iXCbMQv3Xipma34MD+dH/1fQ784/j6cY/iJTQUOhcWr7x9JvoRxT2MZw1T\" crossorigin=\"anonymous\">\\n  <script type=\\'text/javascript\\' src=\\'https://s3.amazonaws.com/mturk-public/externalHIT_v1.js\\'></script>\\n\\t<script src=\"https://ajax.googleapis.com/ajax/libs/jquery/3.4.1/jquery.min.js\"></script>\\n </head>\\n <body>\\n  <form name=\\'mturk_form\\' method=\\'post\\' id=\\'mturk_form\\' action=\\'https://www.workersandbox.mturk.com/mturk/externalSubmit\\'>\\n  <input type=\\'hidden\\' value=\\'\\' name=\\'assignmentId\\' id=\\'assignmentId\\'/>\\n\\t<input type=\\'hidden\\' value=\\'{}\\' name=\\'answers\\' id=\\'answers\\'/>\\n  <h1 style=\"text-align: center;\">Help us find gas price in Street View Imagery!</h1>\\n<div class=\"card bg-light mb-3\" style=\"max-width: 50%; margin: 0 auto;\">\\n  <div class=\"card-header\"></div>\\n  <div class=\"card-body\">\\n    <h5 class=\"card-title\">Instructions</h5>\\n    <p class=\"card-text\">\\n    To earn your reward, you are to do as follows:\\n\\t<ol>\\n\\t\\t<li>Click on the first link.</li>\\n\\t\\t<li>Move the camera position and zoom onto the listed gas price of the nearest gas station.</li>\\n\\t\\t<li>Copy the URL and paste it the the corresponding box.</li>\\n\\t\\t<li>Repeat with the other links.</li>\\n\\t\\t<li>We want the IMAGE LINK that is available when you click on the “share” button.</li>\\n    <li>If the gas station is not immediately visible, please use the map to navigate to the nearest gas station. </li>\\n    <li>Search around the station for the advertised gas price.</li>\\n    <li>Avoid focusing only on the gas station, we are interested in only the gas prices. If no prices are visible, find another nearby gas station and focus on its gas prices.</li>\\n    <li>Move as close as possible to the advertised price to make it as big as possible. </li>\\n    <li>Zoom in as close as possible on the price and center it in the image. </li>\\n    <li>Avoid having objects block out parts of the gas prices (trees, electric poles, cars</li>\\n\\t</ol>\\n\\t\\tPlease check out this <a onclick=\"setVideoWatched()\" href=\"https://youtu.be/d-8n09odPXw\" target=\"_blank\">video</a> for some examples.\\n    </p>\\n  </div>\\n</div>\\n<div style=\"text-align: center\">\\n  <div><a href=\"https://www.instantstreetview.com/@30.7267144038462,-88.09414734615379,0.0h,0.0p,1.0z\\n\" target=\"_blank\">Link 1</a><input type=\"text\" id=\"link1\" style=\"width: 600px;\"></div>\\n<div><a href=\"https://www.instantstreetview.com/@30.180228195465602,-92.072540770123,0.0h,0.0p,1.0z\\n\" target=\"_blank\">Link 2</a><input type=\"text\" id=\"link2\" style=\"width: 600px;\"></div>\\n<div><a href=\"https://www.instantstreetview.com/@36.1246046851017,-86.69889319934151,0.0h,0.0p,1.0z\\n\" target=\"_blank\">Link 3</a><input type=\"text\" id=\"link3\" style=\"width: 600px;\"></div>\\n<div><a href=\"https://www.instantstreetview.com/@39.0087858,-105.04657639999999,0.0h,0.0p,1.0z\\n\" target=\"_blank\">Link 4</a><input type=\"text\" id=\"link4\" style=\"width: 600px;\"></div>\\n<div><a href=\"https://www.instantstreetview.com/@41.902977500000006,-71.3193845,0.0h,0.0p,1.0z\\n\" target=\"_blank\">Link 5</a><input type=\"text\" id=\"link5\" style=\"width: 600px;\"></div>\\n<div><a href=\"https://www.instantstreetview.com/@41.452917901325605,-73.3939907035954,0.0h,0.0p,1.0z\\n\" target=\"_blank\">Link 6</a><input type=\"text\" id=\"link6\" style=\"width: 600px;\"></div>\\n<div><a href=\"https://www.instantstreetview.com/@35.438243,-97.530064,0.0h,0.0p,1.0z\\n\" target=\"_blank\">Link 7</a><input type=\"text\" id=\"link7\" style=\"width: 600px;\"></div>\\n<div><a href=\"https://www.instantstreetview.com/@32.456577,-93.708442,0.0h,0.0p,1.0z\\n\" target=\"_blank\">Link 8</a><input type=\"text\" id=\"link8\" style=\"width: 600px;\"></div>\\n<div><a href=\"https://www.instantstreetview.com/@37.729999,-122.429829,0.0h,0.0p,1.0z\\n\" target=\"_blank\">Link 9</a><input type=\"text\" id=\"link9\" style=\"width: 600px;\"></div>\\n<div><a href=\"https://www.instantstreetview.com/@35.2268947885618,-80.33090861577429,0.0h,0.0p,1.0z\" target=\"_blank\">Link 10</a><input type=\"text\" id=\"link10\" style=\"width: 600px;\"></div>\\n  <p><input style=\"visibility:hidden;\" type=\\'submit\\' id=\\'submitButton\\' value=\\'Submit\\' /></p></form>\\n\\t<p id=\"errormessage\" style=\"color:red\"></p>\\n\\t<button id=\"submitbutton\" class=\"btn btn-success\" type=\"button\">Submit!</button>\\n</div>\\n  <script language=\\'Javascript\\'>turkSetAssignmentID();</script>\\n\\t <script>\\n\\t\\t var numLinks = 10;\\n\\n\\t\\t var videoWasWatched = false;\\n\\n\\t\\t function setVideoWatched() {\\n\\t\\t\\t videoWasWatched = true;\\n\\t\\t }\\n\\n\\t\\t function verifyLinkValidity() {\\n\\t\\t\\t var regex = /(https:\\\\/\\\\/www.instantstreetview.com\\\\/)?\\\\@[-+]?[0-9]*\\\\.?[0-9]+,[-+]?[0-9]*\\\\.?[0-9]+,[-+]?[0-9]*\\\\.?[0-9]+h,[-+]?[0-9]*\\\\.?[0-9]+p,[-+]?[0-9]*\\\\.?[0-9]+z/;\\n\\t\\t\\t for(var i = 0; i < numLinks; i++) {\\n\\t\\t\\t\\t if(!$(\"#link\" + (i+1)).val().match(regex)) {\\n\\t\\t\\t\\t\\t $(\"#validlinks\").html(\"The link \" + (i + 1) + \" that you provided is invalid.\");\\n\\t\\t\\t\\t\\t return i + 1;\\n\\t\\t\\t\\t }\\n\\t\\t\\t   return 0;\\n\\t\\t\\t }\\n\\t\\t }\\n\\n\\t\\t function showErrorMessage(message) {\\n\\t\\t\\t\\t$(\"#errormessage\").html(message);\\n\\t\\t }\\n\\n\\t\\t function hideErrorMessage() {\\n\\t\\t\\t\\t$(\"#errormessage\").html(\"\");\\n\\t\\t }\\n\\n\\t\\t $(\"#submitbutton\").click(function() { \\n\\t\\t\\t var response = {};\\n\\t\\t\\t var answer = {};\\n\\t\\t\\t answer.link1 = $(\"#link1\").val();\\nanswer.link2 = $(\"#link2\").val();\\nanswer.link3 = $(\"#link3\").val();\\nanswer.link4 = $(\"#link4\").val();\\nanswer.link5 = $(\"#link5\").val();\\nanswer.link6 = $(\"#link6\").val();\\nanswer.link7 = $(\"#link7\").val();\\nanswer.link8 = $(\"#link8\").val();\\nanswer.link9 = $(\"#link9\").val();\\nanswer.link10 = $(\"#link10\").val();\\n\\n\\t\\t\\t // Verify that the links are different (no copy paste of same link)\\n\\t\\t\\t var set = new Set(Object.values(answer));\\n\\t\\t\\t if(set.size < numLinks) {\\n\\t\\t\\t\\t showErrorMessage(\"Please provide different links!\");\\n\\t\\t\\t\\t return;\\n\\t\\t\\t }\\n\\n\\t\\t\\t // Verify that all fields are valid (match the link regex)\\n\\t\\t\\t var invalid = verifyLinkValidity();\\n\\t\\t\\t if(invalid) {\\n\\t\\t\\t\\t showErrorMessage(\"You provided an invalid response for link \" + invalid + \".\");\\n\\t\\t\\t\\t return;\\n\\t\\t\\t }\\n\\n\\t\\t\\t response.videoWasWatched = videoWasWatched;\\n\\t\\t\\t response.answer = answer;\\n\\n\\t\\t\\t // JSONify the answer\\n\\t\\t\\t $(\"#answers\").val(\"$$$\" + JSON.stringify(response) + \"$$$\");\\n\\n\\t\\t\\t // Submit\\n\\t\\t\\t $(\"#submitButton\").click();\\n\\t\\t })\\n\\t </script>\\n </body>\\n</html>\\n]]>\\n  </HTMLContent>\\n  <FrameHeight>0</FrameHeight>\\n</HTMLQuestion>\\n', 'Keywords': 'vision,copy-paste,easy,computer vision', 'HITStatus': 'Assignable', 'MaxAssignments': 20, 'Reward': '0.10', 'AutoApprovalDelayInSeconds': 2592000, 'Expiration': datetime.datetime(2021, 1, 19, 8, 20, 1, tzinfo=tzlocal()), 'AssignmentDurationInSeconds': 2000, 'RequesterAnnotation': 'something', 'QualificationRequirements': [{'QualificationTypeId': '000000000000000000L0', 'Comparator': 'GreaterThanOrEqualTo', 'IntegerValues': [95], 'RequiredToPreview': False, 'ActionsGuarded': 'Accept'}, {'QualificationTypeId': '00000000000000000040', 'Comparator': 'GreaterThanOrEqualTo', 'IntegerValues': [200], 'RequiredToPreview': False, 'ActionsGuarded': 'Accept'}], 'HITReviewStatus': 'NotReviewed', 'NumberOfAssignmentsPending': 0, 'NumberOfAssignmentsAvailable': 20, 'NumberOfAssignmentsCompleted': 0}, 'ResponseMetadata': {'RequestId': 'f0b3a542-9281-4059-a97d-6a6a48596977', 'HTTPStatusCode': 200, 'HTTPHeaders': {'x-amzn-requestid': 'f0b3a542-9281-4059-a97d-6a6a48596977', 'content-type': 'application/x-amz-json-1.1', 'content-length': '8079', 'date': 'Mon, 20 Jan 2020 13:20:01 GMT'}, 'RetryAttempts': 0}}\n"
     ]
    }
   ],
   "source": [
    "template_file = \"./templates/template.html\"\n",
    "links_file = \"./inputs/prequalification/batch1.txt\"\n",
    "\n",
    "resp = create_hit(prod_client,template_file, links_file)\n",
    "print(resp)"
   ]
  },
  {
   "cell_type": "code",
   "execution_count": 21,
   "metadata": {},
   "outputs": [
    {
     "ename": "IndexError",
     "evalue": "list index out of range",
     "output_type": "error",
     "traceback": [
      "\u001b[0;31m---------------------------------------------------------------------------\u001b[0m",
      "\u001b[0;31mIndexError\u001b[0m                                Traceback (most recent call last)",
      "\u001b[0;32m<ipython-input-21-e8e21d4e8b31>\u001b[0m in \u001b[0;36m<module>\u001b[0;34m()\u001b[0m\n\u001b[1;32m      2\u001b[0m     \u001b[0mHITId\u001b[0m\u001b[0;34m=\u001b[0m\u001b[0;34m\"372AGES0I34CS4UBOACUXAN3JYKXRY\"\u001b[0m\u001b[0;34m\u001b[0m\u001b[0;34m\u001b[0m\u001b[0m\n\u001b[1;32m      3\u001b[0m )\n\u001b[0;32m----> 4\u001b[0;31m \u001b[0mprint\u001b[0m\u001b[0;34m(\u001b[0m\u001b[0mparse_response\u001b[0m\u001b[0;34m(\u001b[0m\u001b[0mresponse\u001b[0m\u001b[0;34m)\u001b[0m\u001b[0;34m)\u001b[0m\u001b[0;34m\u001b[0m\u001b[0;34m\u001b[0m\u001b[0m\n\u001b[0m",
      "\u001b[0;32m<ipython-input-7-925ab5e9c66f>\u001b[0m in \u001b[0;36mparse_response\u001b[0;34m(response)\u001b[0m\n\u001b[1;32m      3\u001b[0m \u001b[0;34m\u001b[0m\u001b[0m\n\u001b[1;32m      4\u001b[0m \u001b[0;32mdef\u001b[0m \u001b[0mparse_response\u001b[0m\u001b[0;34m(\u001b[0m\u001b[0mresponse\u001b[0m\u001b[0;34m)\u001b[0m\u001b[0;34m:\u001b[0m\u001b[0;34m\u001b[0m\u001b[0;34m\u001b[0m\u001b[0m\n\u001b[0;32m----> 5\u001b[0;31m     \u001b[0manswers\u001b[0m \u001b[0;34m=\u001b[0m \u001b[0mresponse\u001b[0m\u001b[0;34m[\u001b[0m\u001b[0;34m\"Assignments\"\u001b[0m\u001b[0;34m]\u001b[0m\u001b[0;34m[\u001b[0m\u001b[0;36m0\u001b[0m\u001b[0;34m]\u001b[0m\u001b[0;34m[\u001b[0m\u001b[0;34m\"Answer\"\u001b[0m\u001b[0;34m]\u001b[0m\u001b[0;34m\u001b[0m\u001b[0;34m\u001b[0m\u001b[0m\n\u001b[0m\u001b[1;32m      6\u001b[0m     \u001b[0massignment\u001b[0m \u001b[0;34m=\u001b[0m \u001b[0;34m{\u001b[0m\u001b[0;34m}\u001b[0m\u001b[0;34m\u001b[0m\u001b[0;34m\u001b[0m\u001b[0m\n\u001b[1;32m      7\u001b[0m     \u001b[0massignment\u001b[0m\u001b[0;34m[\u001b[0m\u001b[0;34m\"answers\"\u001b[0m\u001b[0;34m]\u001b[0m \u001b[0;34m=\u001b[0m \u001b[0mjson\u001b[0m\u001b[0;34m.\u001b[0m\u001b[0mloads\u001b[0m\u001b[0;34m(\u001b[0m\u001b[0mre\u001b[0m\u001b[0;34m.\u001b[0m\u001b[0msearch\u001b[0m\u001b[0;34m(\u001b[0m\u001b[0;34mr\"\\$\\$\\$(.*)\\$\\$\\$\"\u001b[0m\u001b[0;34m,\u001b[0m \u001b[0manswers\u001b[0m\u001b[0;34m)\u001b[0m\u001b[0;34m.\u001b[0m\u001b[0mgroup\u001b[0m\u001b[0;34m(\u001b[0m\u001b[0;36m1\u001b[0m\u001b[0;34m)\u001b[0m\u001b[0;34m)\u001b[0m\u001b[0;34m\u001b[0m\u001b[0;34m\u001b[0m\u001b[0m\n",
      "\u001b[0;31mIndexError\u001b[0m: list index out of range"
     ]
    }
   ],
   "source": [
    "response = prod_client.list_assignments_for_hit(\n",
    "    HITId=\"372AGES0I34CS4UBOACUXAN3JYKXRY\"\n",
    ")\n",
    "print(parse_response(response))"
   ]
  },
  {
   "cell_type": "markdown",
   "metadata": {},
   "source": [
    "Ok, the HIT works. Now I want to create a HIT with ~30 assignments to find good workers. Let's create a qualification that requires >90% approval to complete the HIT."
   ]
  },
  {
   "cell_type": "code",
   "execution_count": 22,
   "metadata": {},
   "outputs": [
    {
     "data": {
      "text/plain": [
       "{'NumResults': 0,\n",
       " 'Assignments': [],\n",
       " 'ResponseMetadata': {'RequestId': 'e85461ca-59ee-4067-9cbb-ed4219978a14',\n",
       "  'HTTPStatusCode': 200,\n",
       "  'HTTPHeaders': {'x-amzn-requestid': 'e85461ca-59ee-4067-9cbb-ed4219978a14',\n",
       "   'content-type': 'application/x-amz-json-1.1',\n",
       "   'content-length': '33',\n",
       "   'date': 'Mon, 20 Jan 2020 13:55:23 GMT'},\n",
       "  'RetryAttempts': 0}}"
      ]
     },
     "execution_count": 22,
     "metadata": {},
     "output_type": "execute_result"
    }
   ],
   "source": [
    "prod_client.list_assignments_for_hit(HITId=\"372AGES0I34CS4UBOACUXAN3JYKXRY\")"
   ]
  },
  {
   "cell_type": "code",
   "execution_count": null,
   "metadata": {},
   "outputs": [],
   "source": []
  }
 ],
 "metadata": {
  "kernelspec": {
   "display_name": "Python 3",
   "language": "python",
   "name": "python3"
  },
  "language_info": {
   "codemirror_mode": {
    "name": "ipython",
    "version": 3
   },
   "file_extension": ".py",
   "mimetype": "text/x-python",
   "name": "python",
   "nbconvert_exporter": "python",
   "pygments_lexer": "ipython3",
   "version": "3.7.4"
  }
 },
 "nbformat": 4,
 "nbformat_minor": 2
}
